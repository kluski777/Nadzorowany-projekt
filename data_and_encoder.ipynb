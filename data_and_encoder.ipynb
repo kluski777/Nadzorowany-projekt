{
 "cells": [
  {
   "cell_type": "code",
   "execution_count": 56,
   "id": "2c279eca",
   "metadata": {},
   "outputs": [],
   "source": [
    "try:\n",
    "    import matplotlib.pyplot as plt\n",
    "    from datasets import load_dataset\n",
    "    from comet_ml import start\n",
    "    import numpy as np\n",
    "    import umap\n",
    "    import torch\n",
    "    import torch.nn as nn\n",
    "except:\n",
    "    import os\n",
    "    os.system(\"pip install datasets comet_ml umap_learn\")\n",
    "\n",
    "\n",
    "import pandas as pd\n",
    "from PIL import Image\n",
    "\n",
    "data = load_dataset(\"Artificio/WikiArt_Full\")['train']\n",
    "\n",
    "sample_size = 1024\n",
    "genres, styles, image_refs = data['genre'][:sample_size], data['style'][:sample_size], data['image'][:sample_size]\n",
    "\n",
    "# czytanie zdjec\n",
    "images = []\n",
    "for ref in image_refs:\n",
    "    images.append( np.array(ref) )\n",
    "images = torch.Tensor( np.array(images) )"
   ]
  },
  {
   "cell_type": "code",
   "execution_count": null,
   "id": "f3fd737c",
   "metadata": {},
   "outputs": [
    {
     "name": "stdout",
     "output_type": "stream",
     "text": [
      "Oryginalny wymiar obrazu 256\n",
      "Po 1 warstwie encodera rozmiar obrazu: 128\n",
      "Po 3 warstwie encodera rozmiar obrazu: 64\n",
      "Po 5 warstwie encodera rozmiar obrazu: 32\n",
      "Po 7 warstwie encodera rozmiar obrazu: 16\n",
      "Po 1 warstwie decodera rozmiar obrazu: 32\n",
      "Po 3 warstwie decodera rozmiar obrazu: 64\n",
      "Po 5 warstwie decodera rozmiar obrazu: 128\n",
      "Po 7 warstwie decodera rozmiar obrazu: 256\n",
      "100.00%"
     ]
    },
    {
     "data": {
      "text/plain": [
       "Text(0, 0.5, 'Blad')"
      ]
     },
     "execution_count": 90,
     "metadata": {},
     "output_type": "execute_result"
    },
    {
     "data": {
      "image/png": "[encoded data removed]",
      "text/plain": [
       "<Figure size 640x480 with 1 Axes>"
      ]
     },
     "metadata": {},
     "output_type": "display_data"
    }
   ],
   "source": [
    "if images.shape[1] != 3: # najpierw powinny isc kanaly na conva\n",
    "    images = images.permute(0, 3, 1, 2) # N probek, kanaly, wysokosc, szerokosc\n",
    "\n",
    "class Autoencoder(nn.Module):\n",
    "    def __init__(self, image_shape, lr):\n",
    "        super().__init__()\n",
    "        \n",
    "        in_channels = image_shape[0]\n",
    "        kernel = 4\n",
    "        padding = (kernel - 1) // 2\n",
    "\n",
    "        self.encode = nn.Sequential(   \n",
    "            nn.Conv2d(in_channels, 3, kernel_size=kernel, stride=2, padding=padding), nn.ReLU(),\n",
    "            nn.Conv2d(3, 3, kernel_size=kernel, stride=2, padding=padding), nn.ReLU(),\n",
    "            nn.Conv2d(3, 3, kernel_size=kernel, stride=2, padding=padding), nn.ReLU(),\n",
    "            nn.Conv2d(3, 3, kernel_size=kernel, stride=2, padding=padding), nn.ReLU(),\n",
    "        )\n",
    "        self.decode = nn.Sequential(\n",
    "            nn.ConvTranspose2d(3, 3, kernel_size=kernel, stride=2, padding=padding), nn.ReLU(),\n",
    "            nn.ConvTranspose2d(3, 3, kernel_size=kernel, stride=2, padding=padding), nn.ReLU(),\n",
    "            nn.ConvTranspose2d(3, 3, kernel_size=kernel, stride=2, padding=padding), nn.ReLU(),\n",
    "            nn.ConvTranspose2d(3, 3, kernel_size=kernel, stride=2, padding=padding), nn.ReLU(),\n",
    "        )\n",
    "        \n",
    "        # liczenie rozmiarow po convach - \n",
    "        w = image_shape[1] # obrazy maja takie same szerokosci i wysokosci\n",
    "        print(f'Oryginalny wymiar obrazu {w}')\n",
    "        for i, layer in enumerate(self.encode):\n",
    "            if isinstance(layer, nn.Conv2d):\n",
    "                w = (w - layer.kernel_size[0] + 2*layer.padding[0]) // layer.stride[0] + 1\n",
    "                print(f'Po {i+1} warstwie encodera rozmiar obrazu: {w}')\n",
    "\n",
    "        for i, layer, in enumerate(self.decode):\n",
    "            if isinstance(layer, nn.ConvTranspose2d):\n",
    "                w = (w - 1) * layer.stride[0] + layer.kernel_size[0] - 2*layer.padding[0]\n",
    "                print(f'Po {i+1} warstwie decodera rozmiar obrazu: {w}')\n",
    "\n",
    "        self.optim = torch.optim.Adam(self.parameters(), lr)\n",
    "        self.loss = nn.MSELoss()\n",
    "\n",
    "    def forward(self, input):\n",
    "        return self.decode( self.encode(input) )\n",
    "    \n",
    "ENCODER_EPOCHS = 250\n",
    "BATCH_SIZE = 128\n",
    "autoencoder = Autoencoder(images.shape[1:], 1e-4)\n",
    "loss_history = np.zeros(ENCODER_EPOCHS)\n",
    "\n",
    "if torch.cuda.is_available():\n",
    "    images = images.to('cuda')\n",
    "    autoencoder = autoencoder.to('cuda')\n",
    "\n",
    "# trenowanie encodera\n",
    "for epoch in range(ENCODER_EPOCHS):\n",
    "    print(f'\\r{epoch / (ENCODER_EPOCHS - 1) * 100:.2f}%', end='', flush=True)\n",
    "    for i in range(int(images.shape[0] / BATCH_SIZE)): # TODO na dataLoaderze to zrobic\n",
    "        batch = images[i * BATCH_SIZE: (i+1) * BATCH_SIZE, :, : ,: ]\n",
    "        autoencoder.zero_grad()\n",
    "        image_reconstructed = autoencoder(batch)\n",
    "        loss = autoencoder.loss(batch, image_reconstructed)\n",
    "        loss.backward()\n",
    "        autoencoder.optim.step()\n",
    "        \n",
    "        loss_history[epoch] = loss.item()\n",
    "\n",
    "plt.title('Blad MSE')\n",
    "plt.plot(loss_history, 'o', markersize=0.5)\n",
    "plt.xlabel('Epoki')\n",
    "plt.ylabel('Blad')"
   ]
  },
  {
   "cell_type": "code",
   "execution_count": null,
   "id": "0917a809",
   "metadata": {},
   "outputs": [],
   "source": []
  },
  {
   "cell_type": "code",
   "execution_count": 68,
   "id": "118ecbdb",
   "metadata": {},
   "outputs": [
    {
     "data": {
      "text/plain": [
       "(4096, 196608)"
      ]
     },
     "execution_count": 68,
     "metadata": {},
     "output_type": "execute_result"
    }
   ],
   "source": [
    "images.shape"
   ]
  }
 ],
 "metadata": {
  "kernelspec": {
   "display_name": "myenv",
   "language": "python",
   "name": "python3"
  },
  "language_info": {
   "codemirror_mode": {
    "name": "ipython",
    "version": 3
   },
   "file_extension": ".py",
   "mimetype": "text/x-python",
   "name": "python",
   "nbconvert_exporter": "python",
   "pygments_lexer": "ipython3",
   "version": "3.12.3"
  }
 },
 "nbformat": 4,
 "nbformat_minor": 5
}
